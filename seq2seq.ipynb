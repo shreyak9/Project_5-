{
 "cells": [
  {
   "cell_type": "code",
   "execution_count": null,
   "metadata": {},
   "outputs": [],
   "source": [
    "import sys\n",
    "sys.path.insert(0, '../')\n",
    "import pandas as pd\n",
    "import numpy as np\n",
    "from datetime import datetime\n",
    "import matplotlib.pyplot as plt\n",
    "from pandas.plotting import register_matplotlib_converters\n",
    "register_matplotlib_converters()\n",
    "import re\n",
    "import seaborn as sns\n",
    "sns.set()\n",
    "import warnings\n",
    "warnings.filterwarnings('ignore')\n",
    "import statsmodels.api as sm\n",
    "from jupyterthemes import jtplot\n",
    "from statsmodels.graphics.tsaplots import plot_acf, plot_pacf\n",
    "from statsmodels.tsa.arima_model import ARIMA\n",
    "import statsmodels.api as sm\n",
    "import itertools\n",
    "from pmdarima.arima import auto_arima\n",
    "from pmdarima.arima import ADFTest\n",
    "from sklearn.preprocessing import MinMaxScaler\n",
    "from datetime import timedelta\n",
    "\n",
    "\n"
   ]
  },
  {
   "cell_type": "code",
   "execution_count": 2,
   "metadata": {},
   "outputs": [],
   "source": [
    "train_1 = pd.read_csv('train_1.csv') "
   ]
  },
  {
   "cell_type": "code",
   "execution_count": 3,
   "metadata": {},
   "outputs": [],
   "source": [
    "def find_language(url):\n",
    "    res = re.search('[a-z][a-z].wikipedia.org', url)\n",
    "    if res:\n",
    "        return res[0][0:2]\n",
    "    return 'na'\n",
    "\n",
    "def data_per_date(data):\n",
    "\n",
    "    data1 = data.copy()\n",
    "    temp = data1.Page.str.rsplit(\"_\", expand=True, n=3)\n",
    "\n",
    "    data1['lang'] = data1.Page.map(find_language)\n",
    "    data1['Page'] = temp[0]\n",
    "    data1['Type_of_traffic'] = temp[2]\n",
    "    data1['Agent'] = temp[3]\n",
    "\n",
    "    data_melted = pd.melt(data1, id_vars=['Page', 'Type_of_traffic', 'Agent', 'lang'],\n",
    "                          var_name='Date', value_name='count')\n",
    "    data_melted['Date'] = data_melted['Date'].astype('datetime64[ns]')\n",
    "\n",
    "    return data_melted\n",
    "def find_page(data_melted, page_name):\n",
    "\n",
    "    my_page = data_melted[data_melted.Page == page_name]\n",
    "    my_page = my_page.groupby('Date')[['count']].sum()\n",
    "    return my_page\n",
    "\n",
    "def series_split(data, size):\n",
    "\n",
    "    size = int(size)\n",
    "    train = data['count'][0:size].dropna()\n",
    "    test = data['count'][size:len(data)].dropna()\n",
    "\n",
    "    return train, test\n",
    "\n",
    "def scale(train, test):\n",
    "    # fit scaler\n",
    "    scaler = MinMaxScaler(feature_range=(0,  1))\n",
    "    scaler = scaler.fit(train)\n",
    "    # transform train\n",
    "    train_scaled = scaler.transform(train)\n",
    "    # transform test\n",
    "    test_scaled = scaler.transform(test)\n",
    "    return scaler, train_scaled, test_scaled\n",
    "\n"
   ]
  },
  {
   "cell_type": "code",
   "execution_count": 3,
   "metadata": {},
   "outputs": [
    {
     "ename": "NameError",
     "evalue": "name 'data_per_date' is not defined",
     "output_type": "error",
     "traceback": [
      "\u001b[0;31m---------------------------------------------------------------------------\u001b[0m",
      "\u001b[0;31mNameError\u001b[0m                                 Traceback (most recent call last)",
      "\u001b[0;32m<ipython-input-3-62efbc199d0f>\u001b[0m in \u001b[0;36m<module>\u001b[0;34m\u001b[0m\n\u001b[0;32m----> 1\u001b[0;31m \u001b[0mdf\u001b[0m \u001b[0;34m=\u001b[0m \u001b[0mdata_per_date\u001b[0m\u001b[0;34m(\u001b[0m\u001b[0mtrain_1\u001b[0m\u001b[0;34m)\u001b[0m\u001b[0;34m\u001b[0m\u001b[0;34m\u001b[0m\u001b[0m\n\u001b[0m",
      "\u001b[0;31mNameError\u001b[0m: name 'data_per_date' is not defined"
     ]
    }
   ],
   "source": [
    "df = data_per_date(train_1)\n"
   ]
  },
  {
   "cell_type": "code",
   "execution_count": 5,
   "metadata": {},
   "outputs": [
    {
     "data": {
      "text/html": [
       "<div>\n",
       "<style scoped>\n",
       "    .dataframe tbody tr th:only-of-type {\n",
       "        vertical-align: middle;\n",
       "    }\n",
       "\n",
       "    .dataframe tbody tr th {\n",
       "        vertical-align: top;\n",
       "    }\n",
       "\n",
       "    .dataframe thead th {\n",
       "        text-align: right;\n",
       "    }\n",
       "</style>\n",
       "<table border=\"1\" class=\"dataframe\">\n",
       "  <thead>\n",
       "    <tr style=\"text-align: right;\">\n",
       "      <th></th>\n",
       "      <th>Page</th>\n",
       "      <th>Type_of_traffic</th>\n",
       "      <th>Agent</th>\n",
       "      <th>lang</th>\n",
       "      <th>Date</th>\n",
       "      <th>count</th>\n",
       "    </tr>\n",
       "  </thead>\n",
       "  <tbody>\n",
       "    <tr>\n",
       "      <th>0</th>\n",
       "      <td>2NE1</td>\n",
       "      <td>all-access</td>\n",
       "      <td>spider</td>\n",
       "      <td>zh</td>\n",
       "      <td>2015-07-01</td>\n",
       "      <td>18.0</td>\n",
       "    </tr>\n",
       "    <tr>\n",
       "      <th>1</th>\n",
       "      <td>2PM</td>\n",
       "      <td>all-access</td>\n",
       "      <td>spider</td>\n",
       "      <td>zh</td>\n",
       "      <td>2015-07-01</td>\n",
       "      <td>11.0</td>\n",
       "    </tr>\n",
       "    <tr>\n",
       "      <th>2</th>\n",
       "      <td>3C</td>\n",
       "      <td>all-access</td>\n",
       "      <td>spider</td>\n",
       "      <td>zh</td>\n",
       "      <td>2015-07-01</td>\n",
       "      <td>1.0</td>\n",
       "    </tr>\n",
       "    <tr>\n",
       "      <th>3</th>\n",
       "      <td>4minute</td>\n",
       "      <td>all-access</td>\n",
       "      <td>spider</td>\n",
       "      <td>zh</td>\n",
       "      <td>2015-07-01</td>\n",
       "      <td>35.0</td>\n",
       "    </tr>\n",
       "    <tr>\n",
       "      <th>4</th>\n",
       "      <td>52_Hz_I_Love_You</td>\n",
       "      <td>all-access</td>\n",
       "      <td>spider</td>\n",
       "      <td>zh</td>\n",
       "      <td>2015-07-01</td>\n",
       "      <td>NaN</td>\n",
       "    </tr>\n",
       "  </tbody>\n",
       "</table>\n",
       "</div>"
      ],
      "text/plain": [
       "               Page Type_of_traffic   Agent lang       Date  count\n",
       "0              2NE1      all-access  spider   zh 2015-07-01   18.0\n",
       "1               2PM      all-access  spider   zh 2015-07-01   11.0\n",
       "2                3C      all-access  spider   zh 2015-07-01    1.0\n",
       "3           4minute      all-access  spider   zh 2015-07-01   35.0\n",
       "4  52_Hz_I_Love_You      all-access  spider   zh 2015-07-01    NaN"
      ]
     },
     "execution_count": 5,
     "metadata": {},
     "output_type": "execute_result"
    }
   ],
   "source": [
    "data.head() "
   ]
  },
  {
   "cell_type": "code",
   "execution_count": 6,
   "metadata": {},
   "outputs": [],
   "source": [
    "N_of_pages = 8\n",
    "page = {}\n",
    "titles = list()\n",
    "\n",
    "\n",
    "for i in range(N_of_pages):\n",
    "    titles.append(data['Page'][np.random.randint(0,len(data))])\n",
    "\n",
    "for i in range(N_of_pages):\n",
    "    page[i] = find_page(data, titles[i]) "
   ]
  },
  {
   "cell_type": "code",
   "execution_count": 7,
   "metadata": {},
   "outputs": [
    {
     "data": {
      "text/plain": [
       "['Nigeria',\n",
       " 'Planet_der_Affen',\n",
       " 'Syd_Barrett',\n",
       " 'Día_Mundial_de_la_Salud',\n",
       " 'Vier-Seiten-Modell',\n",
       " '有栖川有栖',\n",
       " 'Antony_Armstrong-Jones,_1._Earl_of_Snowdon',\n",
       " '100毛']"
      ]
     },
     "execution_count": 7,
     "metadata": {},
     "output_type": "execute_result"
    }
   ],
   "source": [
    "titles"
   ]
  },
  {
   "cell_type": "code",
   "execution_count": 8,
   "metadata": {},
   "outputs": [
    {
     "data": {
      "text/plain": [
       "{0:               count\n",
       " Date               \n",
       " 2015-07-01  14542.0\n",
       " 2015-07-02  14787.0\n",
       " 2015-07-03  16728.0\n",
       " 2015-07-04  12890.0\n",
       " 2015-07-05  13181.0\n",
       " ...             ...\n",
       " 2016-12-27  17127.0\n",
       " 2016-12-28  16225.0\n",
       " 2016-12-29  14438.0\n",
       " 2016-12-30  13929.0\n",
       " 2016-12-31  12318.0\n",
       " \n",
       " [550 rows x 1 columns], 1:              count\n",
       " Date              \n",
       " 2015-07-01   534.0\n",
       " 2015-07-02   511.0\n",
       " 2015-07-03   499.0\n",
       " 2015-07-04   693.0\n",
       " 2015-07-05   936.0\n",
       " ...            ...\n",
       " 2016-12-27   974.0\n",
       " 2016-12-28   926.0\n",
       " 2016-12-29  1579.0\n",
       " 2016-12-30  1118.0\n",
       " 2016-12-31   751.0\n",
       " \n",
       " [550 rows x 1 columns], 2:              count\n",
       " Date              \n",
       " 2015-07-01   529.0\n",
       " 2015-07-02   653.0\n",
       " 2015-07-03   714.0\n",
       " 2015-07-04   460.0\n",
       " 2015-07-05   496.0\n",
       " ...            ...\n",
       " 2016-12-27   620.0\n",
       " 2016-12-28   595.0\n",
       " 2016-12-29   642.0\n",
       " 2016-12-30  1232.0\n",
       " 2016-12-31   737.0\n",
       " \n",
       " [550 rows x 1 columns], 3:             count\n",
       " Date             \n",
       " 2015-07-01  253.0\n",
       " 2015-07-02  214.0\n",
       " 2015-07-03  163.0\n",
       " 2015-07-04   97.0\n",
       " 2015-07-05  113.0\n",
       " ...           ...\n",
       " 2016-12-27   60.0\n",
       " 2016-12-28   52.0\n",
       " 2016-12-29   31.0\n",
       " 2016-12-30   29.0\n",
       " 2016-12-31   22.0\n",
       " \n",
       " [550 rows x 1 columns], 4:              count\n",
       " Date              \n",
       " 2015-07-01  1851.0\n",
       " 2015-07-02  1918.0\n",
       " 2015-07-03  1342.0\n",
       " 2015-07-04   869.0\n",
       " 2015-07-05  1473.0\n",
       " ...            ...\n",
       " 2016-12-27  1283.0\n",
       " 2016-12-28  1374.0\n",
       " 2016-12-29  1442.0\n",
       " 2016-12-30  1218.0\n",
       " 2016-12-31  1000.0\n",
       " \n",
       " [550 rows x 1 columns], 5:             count\n",
       " Date             \n",
       " 2015-07-01  377.0\n",
       " 2015-07-02  329.0\n",
       " 2015-07-03  351.0\n",
       " 2015-07-04  333.0\n",
       " 2015-07-05  324.0\n",
       " ...           ...\n",
       " 2016-12-27  441.0\n",
       " 2016-12-28  430.0\n",
       " 2016-12-29  418.0\n",
       " 2016-12-30  421.0\n",
       " 2016-12-31  366.0\n",
       " \n",
       " [550 rows x 1 columns], 6:             count\n",
       " Date             \n",
       " 2015-07-01   35.0\n",
       " 2015-07-02   27.0\n",
       " 2015-07-03   31.0\n",
       " 2015-07-04   19.0\n",
       " 2015-07-05   35.0\n",
       " ...           ...\n",
       " 2016-12-27   52.0\n",
       " 2016-12-28   54.0\n",
       " 2016-12-29   54.0\n",
       " 2016-12-30   41.0\n",
       " 2016-12-31   42.0\n",
       " \n",
       " [550 rows x 1 columns], 7:             count\n",
       " Date             \n",
       " 2015-07-01  209.0\n",
       " 2015-07-02  195.0\n",
       " 2015-07-03  186.0\n",
       " 2015-07-04  138.0\n",
       " 2015-07-05   98.0\n",
       " ...           ...\n",
       " 2016-12-27  126.0\n",
       " 2016-12-28  148.0\n",
       " 2016-12-29  177.0\n",
       " 2016-12-30  174.0\n",
       " 2016-12-31   80.0\n",
       " \n",
       " [550 rows x 1 columns]}"
      ]
     },
     "execution_count": 8,
     "metadata": {},
     "output_type": "execute_result"
    }
   ],
   "source": [
    "page"
   ]
  },
  {
   "cell_type": "code",
   "execution_count": 9,
   "metadata": {},
   "outputs": [
    {
     "ename": "ValueError",
     "evalue": "Expected 2D array, got 1D array instead:\narray=[14542. 14787. 16728. 12890. 13181. 17066. 16449. 15689. 14290. 14551.\n 12263. 13819. 17875. 15928. 15508. 17083. 14565. 11966. 12292. 17087.\n 16281. 17482. 15948. 15141. 13085. 13754. 17257. 19676. 18568. 21642.\n 16747. 14985. 15628. 15873. 16156. 18709. 15532. 14166. 12733. 13691.\n 15634. 17325. 17329. 16987. 14944. 12886. 13729. 17228. 17014. 16008.\n 16109. 15318. 12299. 13770. 16831. 17032. 16213. 15474. 16066. 12412.\n 13408. 16541. 16547. 17415. 20954. 19269. 19403. 14922. 17054. 17128.\n 18496. 16564. 14871. 13103. 14216. 16916. 18653. 17193. 17746. 16270.\n 14457. 15602. 18327. 20187. 18493. 18017. 16851. 14084. 15874. 18948.\n 21220. 22359. 34424. 18795. 13978. 15620. 20100. 20195. 17948. 17380.\n 16135. 14116. 15164. 19386. 19251. 18588. 20600. 20165. 18066. 20224.\n 19774. 22979. 19007. 19985. 19951. 14771. 18387. 20262. 17671. 21849.\n 20701. 17142. 13732. 17155. 18499. 19040. 21682. 22514. 19867. 15264.\n 18070. 24466. 25187. 20277. 20444. 20204. 16932. 19405. 23117. 22371.\n 30306. 27977. 26838. 20335. 19305. 20927. 19661. 19670. 20965. 18374.\n 16908. 18136. 20580. 25801. 21675. 21196. 18189. 17390. 16085. 20085.\n 20715. 18776. 18166. 18365. 14274. 15335. 19873. 22815. 31079. 17600.\n 16774. 13035. 14872. 16847. 14383. 14685. 16737. 13051. 13011. 12229.\n 16373. 16149. 13614. 11670. 12116. 14966. 14467. 16245. 17469. 17247.\n 19156. 17435. 15225. 15055. 17567. 20067. 20314. 18803. 18531. 17940.\n 17112. 19361. 18994. 18241. 18440. 17727. 14381. 19332. 19877. 20881.\n 19536. 19242. 17965. 14744. 16838. 23490. 20179. 20164. 20690. 18427.\n 16116. 16493. 18507. 17318. 18389. 20035. 17833. 13859. 14788. 18333.\n 22433. 24797. 19914. 55280. 18462. 15218. 19571. 20378. 18265. 18213.\n 16459. 18376. 15303. 18038. 18304. 18443. 18206. 17046. 13069. 15138.\n 17122. 17683. 17110. 16975. 15934. 13241. 16271. 19283. 18070. 17943.\n 17790. 15948. 12169. 13512. 16745. 18574. 16202. 15980. 15507. 14604.\n 13660. 15923. 16810. 16925. 16815. 19364. 59469. 72512. 51807. 58174.\n 60821. 17208. 15437. 15653. 14822. 18382. 18135. 18170. 20717. 16833.\n 12444. 13736. 19582. 17850. 16360. 16181. 15276. 14712. 14631. 18953.\n 17800. 17241. 17084. 17402. 13454. 15808. 16675. 18749. 16667. 16148.\n 16170. 12352. 16068. 16824. 18866. 21613. 19217. 16262. 14247. 15785.\n 17549. 18922. 19571. 18337. 16635. 12920. 14517. 16100. 16561. 15956.\n 22924. 16169. 11302. 16307. 26439. 17272. 17444. 15951. 15256. 12474.\n 14086. 16196. 16846. 19645. 15750. 15794. 12868. 14124. 16212. 18253.\n 16026. 15304. 14164. 13784. 12867. 14238. 14199. 14067. 17118. 13932.\n 11920. 14466. 14315. 15641. 14933. 13538. 13016. 11473. 13847. 14033.\n 14110. 14145. 12855. 14407. 11518. 12596. 16238. 13647. 12929. 13137.\n 12474. 11855. 12393. 13541. 13210. 12933. 13834. 12473. 11131. 11289.\n 14073. 13578. 64340. 50710. 59270. 40663. 46616. 60276. 61614. 51184.\n 14414. 14772. 23145. 12084. 14141. 14414. 14170. 14527. 13138. 13107.\n 17349. 15775. 14771. 17371. 14130. 13094. 15941. 13107. 17392. 16240.\n 15603. 16710. 14852. 11555. 12042. 14657. 14048. 15397. 15538. 13925.\n 12688. 12778. 16756. 14901. 16106. 14779. 13494. 11348. 11982. 14486.].\nReshape your data either using array.reshape(-1, 1) if your data has a single feature or array.reshape(1, -1) if it contains a single sample.",
     "output_type": "error",
     "traceback": [
      "\u001b[0;31m---------------------------------------------------------------------------\u001b[0m",
      "\u001b[0;31mValueError\u001b[0m                                Traceback (most recent call last)",
      "\u001b[0;32m<ipython-input-9-258a06b2a25c>\u001b[0m in \u001b[0;36m<module>\u001b[0;34m\u001b[0m\n\u001b[1;32m     13\u001b[0m \u001b[0;34m\u001b[0m\u001b[0m\n\u001b[1;32m     14\u001b[0m     \u001b[0mtrain\u001b[0m\u001b[0;34m,\u001b[0m \u001b[0mtest\u001b[0m \u001b[0;34m=\u001b[0m \u001b[0mseries_split\u001b[0m\u001b[0;34m(\u001b[0m\u001b[0mpage\u001b[0m\u001b[0;34m[\u001b[0m\u001b[0mi\u001b[0m\u001b[0;34m]\u001b[0m\u001b[0;34m,\u001b[0m \u001b[0msize\u001b[0m\u001b[0;34m)\u001b[0m\u001b[0;34m\u001b[0m\u001b[0;34m\u001b[0m\u001b[0m\n\u001b[0;32m---> 15\u001b[0;31m     \u001b[0mscaler\u001b[0m\u001b[0;34m,\u001b[0m \u001b[0mtrain_scaled\u001b[0m\u001b[0;34m,\u001b[0m \u001b[0mtest_scaled\u001b[0m \u001b[0;34m=\u001b[0m \u001b[0mscale\u001b[0m\u001b[0;34m(\u001b[0m\u001b[0mtrain\u001b[0m\u001b[0;34m,\u001b[0m \u001b[0mtest\u001b[0m\u001b[0;34m)\u001b[0m\u001b[0;34m\u001b[0m\u001b[0;34m\u001b[0m\u001b[0m\n\u001b[0m\u001b[1;32m     16\u001b[0m \u001b[0;34m\u001b[0m\u001b[0m\n\u001b[1;32m     17\u001b[0m \u001b[0;34m\u001b[0m\u001b[0m\n",
      "\u001b[0;32m<ipython-input-3-f0cb1a1439dd>\u001b[0m in \u001b[0;36mscale\u001b[0;34m(train, test)\u001b[0m\n\u001b[1;32m     37\u001b[0m     \u001b[0;31m# fit scaler\u001b[0m\u001b[0;34m\u001b[0m\u001b[0;34m\u001b[0m\u001b[0;34m\u001b[0m\u001b[0m\n\u001b[1;32m     38\u001b[0m     \u001b[0mscaler\u001b[0m \u001b[0;34m=\u001b[0m \u001b[0mMinMaxScaler\u001b[0m\u001b[0;34m(\u001b[0m\u001b[0mfeature_range\u001b[0m\u001b[0;34m=\u001b[0m\u001b[0;34m(\u001b[0m\u001b[0;36m0\u001b[0m\u001b[0;34m,\u001b[0m  \u001b[0;36m1\u001b[0m\u001b[0;34m)\u001b[0m\u001b[0;34m)\u001b[0m\u001b[0;34m\u001b[0m\u001b[0;34m\u001b[0m\u001b[0m\n\u001b[0;32m---> 39\u001b[0;31m     \u001b[0mscaler\u001b[0m \u001b[0;34m=\u001b[0m \u001b[0mscaler\u001b[0m\u001b[0;34m.\u001b[0m\u001b[0mfit\u001b[0m\u001b[0;34m(\u001b[0m\u001b[0mtrain\u001b[0m\u001b[0;34m)\u001b[0m\u001b[0;34m\u001b[0m\u001b[0;34m\u001b[0m\u001b[0m\n\u001b[0m\u001b[1;32m     40\u001b[0m     \u001b[0;31m# transform train\u001b[0m\u001b[0;34m\u001b[0m\u001b[0;34m\u001b[0m\u001b[0;34m\u001b[0m\u001b[0m\n\u001b[1;32m     41\u001b[0m     \u001b[0mtrain_scaled\u001b[0m \u001b[0;34m=\u001b[0m \u001b[0mscaler\u001b[0m\u001b[0;34m.\u001b[0m\u001b[0mtransform\u001b[0m\u001b[0;34m(\u001b[0m\u001b[0mtrain\u001b[0m\u001b[0;34m)\u001b[0m\u001b[0;34m\u001b[0m\u001b[0;34m\u001b[0m\u001b[0m\n",
      "\u001b[0;32m~/anaconda3/lib/python3.7/site-packages/sklearn/preprocessing/data.py\u001b[0m in \u001b[0;36mfit\u001b[0;34m(self, X, y)\u001b[0m\n\u001b[1;32m    323\u001b[0m         \u001b[0;31m# Reset internal state before fitting\u001b[0m\u001b[0;34m\u001b[0m\u001b[0;34m\u001b[0m\u001b[0;34m\u001b[0m\u001b[0m\n\u001b[1;32m    324\u001b[0m         \u001b[0mself\u001b[0m\u001b[0;34m.\u001b[0m\u001b[0m_reset\u001b[0m\u001b[0;34m(\u001b[0m\u001b[0;34m)\u001b[0m\u001b[0;34m\u001b[0m\u001b[0;34m\u001b[0m\u001b[0m\n\u001b[0;32m--> 325\u001b[0;31m         \u001b[0;32mreturn\u001b[0m \u001b[0mself\u001b[0m\u001b[0;34m.\u001b[0m\u001b[0mpartial_fit\u001b[0m\u001b[0;34m(\u001b[0m\u001b[0mX\u001b[0m\u001b[0;34m,\u001b[0m \u001b[0my\u001b[0m\u001b[0;34m)\u001b[0m\u001b[0;34m\u001b[0m\u001b[0;34m\u001b[0m\u001b[0m\n\u001b[0m\u001b[1;32m    326\u001b[0m \u001b[0;34m\u001b[0m\u001b[0m\n\u001b[1;32m    327\u001b[0m     \u001b[0;32mdef\u001b[0m \u001b[0mpartial_fit\u001b[0m\u001b[0;34m(\u001b[0m\u001b[0mself\u001b[0m\u001b[0;34m,\u001b[0m \u001b[0mX\u001b[0m\u001b[0;34m,\u001b[0m \u001b[0my\u001b[0m\u001b[0;34m=\u001b[0m\u001b[0;32mNone\u001b[0m\u001b[0;34m)\u001b[0m\u001b[0;34m:\u001b[0m\u001b[0;34m\u001b[0m\u001b[0;34m\u001b[0m\u001b[0m\n",
      "\u001b[0;32m~/anaconda3/lib/python3.7/site-packages/sklearn/preprocessing/data.py\u001b[0m in \u001b[0;36mpartial_fit\u001b[0;34m(self, X, y)\u001b[0m\n\u001b[1;32m    351\u001b[0m         X = check_array(X, copy=self.copy,\n\u001b[1;32m    352\u001b[0m                         \u001b[0mestimator\u001b[0m\u001b[0;34m=\u001b[0m\u001b[0mself\u001b[0m\u001b[0;34m,\u001b[0m \u001b[0mdtype\u001b[0m\u001b[0;34m=\u001b[0m\u001b[0mFLOAT_DTYPES\u001b[0m\u001b[0;34m,\u001b[0m\u001b[0;34m\u001b[0m\u001b[0;34m\u001b[0m\u001b[0m\n\u001b[0;32m--> 353\u001b[0;31m                         force_all_finite=\"allow-nan\")\n\u001b[0m\u001b[1;32m    354\u001b[0m \u001b[0;34m\u001b[0m\u001b[0m\n\u001b[1;32m    355\u001b[0m         \u001b[0mdata_min\u001b[0m \u001b[0;34m=\u001b[0m \u001b[0mnp\u001b[0m\u001b[0;34m.\u001b[0m\u001b[0mnanmin\u001b[0m\u001b[0;34m(\u001b[0m\u001b[0mX\u001b[0m\u001b[0;34m,\u001b[0m \u001b[0maxis\u001b[0m\u001b[0;34m=\u001b[0m\u001b[0;36m0\u001b[0m\u001b[0;34m)\u001b[0m\u001b[0;34m\u001b[0m\u001b[0;34m\u001b[0m\u001b[0m\n",
      "\u001b[0;32m~/anaconda3/lib/python3.7/site-packages/sklearn/utils/validation.py\u001b[0m in \u001b[0;36mcheck_array\u001b[0;34m(array, accept_sparse, accept_large_sparse, dtype, order, copy, force_all_finite, ensure_2d, allow_nd, ensure_min_samples, ensure_min_features, warn_on_dtype, estimator)\u001b[0m\n\u001b[1;32m    519\u001b[0m                     \u001b[0;34m\"Reshape your data either using array.reshape(-1, 1) if \"\u001b[0m\u001b[0;34m\u001b[0m\u001b[0;34m\u001b[0m\u001b[0m\n\u001b[1;32m    520\u001b[0m                     \u001b[0;34m\"your data has a single feature or array.reshape(1, -1) \"\u001b[0m\u001b[0;34m\u001b[0m\u001b[0;34m\u001b[0m\u001b[0m\n\u001b[0;32m--> 521\u001b[0;31m                     \"if it contains a single sample.\".format(array))\n\u001b[0m\u001b[1;32m    522\u001b[0m \u001b[0;34m\u001b[0m\u001b[0m\n\u001b[1;32m    523\u001b[0m         \u001b[0;31m# in the future np.flexible dtypes will be handled like object dtypes\u001b[0m\u001b[0;34m\u001b[0m\u001b[0;34m\u001b[0m\u001b[0;34m\u001b[0m\u001b[0m\n",
      "\u001b[0;31mValueError\u001b[0m: Expected 2D array, got 1D array instead:\narray=[14542. 14787. 16728. 12890. 13181. 17066. 16449. 15689. 14290. 14551.\n 12263. 13819. 17875. 15928. 15508. 17083. 14565. 11966. 12292. 17087.\n 16281. 17482. 15948. 15141. 13085. 13754. 17257. 19676. 18568. 21642.\n 16747. 14985. 15628. 15873. 16156. 18709. 15532. 14166. 12733. 13691.\n 15634. 17325. 17329. 16987. 14944. 12886. 13729. 17228. 17014. 16008.\n 16109. 15318. 12299. 13770. 16831. 17032. 16213. 15474. 16066. 12412.\n 13408. 16541. 16547. 17415. 20954. 19269. 19403. 14922. 17054. 17128.\n 18496. 16564. 14871. 13103. 14216. 16916. 18653. 17193. 17746. 16270.\n 14457. 15602. 18327. 20187. 18493. 18017. 16851. 14084. 15874. 18948.\n 21220. 22359. 34424. 18795. 13978. 15620. 20100. 20195. 17948. 17380.\n 16135. 14116. 15164. 19386. 19251. 18588. 20600. 20165. 18066. 20224.\n 19774. 22979. 19007. 19985. 19951. 14771. 18387. 20262. 17671. 21849.\n 20701. 17142. 13732. 17155. 18499. 19040. 21682. 22514. 19867. 15264.\n 18070. 24466. 25187. 20277. 20444. 20204. 16932. 19405. 23117. 22371.\n 30306. 27977. 26838. 20335. 19305. 20927. 19661. 19670. 20965. 18374.\n 16908. 18136. 20580. 25801. 21675. 21196. 18189. 17390. 16085. 20085.\n 20715. 18776. 18166. 18365. 14274. 15335. 19873. 22815. 31079. 17600.\n 16774. 13035. 14872. 16847. 14383. 14685. 16737. 13051. 13011. 12229.\n 16373. 16149. 13614. 11670. 12116. 14966. 14467. 16245. 17469. 17247.\n 19156. 17435. 15225. 15055. 17567. 20067. 20314. 18803. 18531. 17940.\n 17112. 19361. 18994. 18241. 18440. 17727. 14381. 19332. 19877. 20881.\n 19536. 19242. 17965. 14744. 16838. 23490. 20179. 20164. 20690. 18427.\n 16116. 16493. 18507. 17318. 18389. 20035. 17833. 13859. 14788. 18333.\n 22433. 24797. 19914. 55280. 18462. 15218. 19571. 20378. 18265. 18213.\n 16459. 18376. 15303. 18038. 18304. 18443. 18206. 17046. 13069. 15138.\n 17122. 17683. 17110. 16975. 15934. 13241. 16271. 19283. 18070. 17943.\n 17790. 15948. 12169. 13512. 16745. 18574. 16202. 15980. 15507. 14604.\n 13660. 15923. 16810. 16925. 16815. 19364. 59469. 72512. 51807. 58174.\n 60821. 17208. 15437. 15653. 14822. 18382. 18135. 18170. 20717. 16833.\n 12444. 13736. 19582. 17850. 16360. 16181. 15276. 14712. 14631. 18953.\n 17800. 17241. 17084. 17402. 13454. 15808. 16675. 18749. 16667. 16148.\n 16170. 12352. 16068. 16824. 18866. 21613. 19217. 16262. 14247. 15785.\n 17549. 18922. 19571. 18337. 16635. 12920. 14517. 16100. 16561. 15956.\n 22924. 16169. 11302. 16307. 26439. 17272. 17444. 15951. 15256. 12474.\n 14086. 16196. 16846. 19645. 15750. 15794. 12868. 14124. 16212. 18253.\n 16026. 15304. 14164. 13784. 12867. 14238. 14199. 14067. 17118. 13932.\n 11920. 14466. 14315. 15641. 14933. 13538. 13016. 11473. 13847. 14033.\n 14110. 14145. 12855. 14407. 11518. 12596. 16238. 13647. 12929. 13137.\n 12474. 11855. 12393. 13541. 13210. 12933. 13834. 12473. 11131. 11289.\n 14073. 13578. 64340. 50710. 59270. 40663. 46616. 60276. 61614. 51184.\n 14414. 14772. 23145. 12084. 14141. 14414. 14170. 14527. 13138. 13107.\n 17349. 15775. 14771. 17371. 14130. 13094. 15941. 13107. 17392. 16240.\n 15603. 16710. 14852. 11555. 12042. 14657. 14048. 15397. 15538. 13925.\n 12688. 12778. 16756. 14901. 16106. 14779. 13494. 11348. 11982. 14486.].\nReshape your data either using array.reshape(-1, 1) if your data has a single feature or array.reshape(1, -1) if it contains a single sample."
     ]
    }
   ],
   "source": [
    "import time\n",
    "start = time.time()\n",
    "\n",
    "all_history = {}\n",
    "all_models = {}\n",
    "lookback = 1\n",
    "size = int(0.80*len(page[0]))\n",
    "i = 0\n",
    "\n",
    "\n",
    "for i in range(N_of_pages):\n",
    "\n",
    "    \n",
    "    train, test = series_split(page[i], size)\n",
    "    scaler, train_scaled, test_scaled = scale(train, test)\n",
    "    \n",
    "\n",
    "    #print(\"Starting modelling page %d out of %d\" %(i+1, N_of_pages))\n",
    "\n",
    "    lstm_model, history = fit_simple_lstm(train_scaled, last = test_scaled[0], units = 50,\\\n",
    "                                             batch_size = 20, nb_epochs = 20, \\\n",
    "                                             lookback = lookback)\n",
    "    \n",
    "    all_models[i] = lstm_model\n",
    "    all_history[i] = history\n",
    "    #print(\"Model completed for page %d out of %d\" %(i+1, N_of_pages))\n",
    "\n",
    "end = time.time()\n",
    "print(\"total elapsed time:\", end - start)"
   ]
  },
  {
   "cell_type": "code",
   "execution_count": 3,
   "metadata": {},
   "outputs": [],
   "source": [
    "# start here \n",
    "df = train_1.copy()"
   ]
  },
  {
   "cell_type": "code",
   "execution_count": 4,
   "metadata": {},
   "outputs": [
    {
     "data": {
      "text/html": [
       "<div>\n",
       "<style scoped>\n",
       "    .dataframe tbody tr th:only-of-type {\n",
       "        vertical-align: middle;\n",
       "    }\n",
       "\n",
       "    .dataframe tbody tr th {\n",
       "        vertical-align: top;\n",
       "    }\n",
       "\n",
       "    .dataframe thead th {\n",
       "        text-align: right;\n",
       "    }\n",
       "</style>\n",
       "<table border=\"1\" class=\"dataframe\">\n",
       "  <thead>\n",
       "    <tr style=\"text-align: right;\">\n",
       "      <th></th>\n",
       "      <th>Page</th>\n",
       "      <th>2015-07-01</th>\n",
       "      <th>2015-07-02</th>\n",
       "      <th>2015-07-03</th>\n",
       "      <th>2015-07-04</th>\n",
       "      <th>2015-07-05</th>\n",
       "      <th>2015-07-06</th>\n",
       "      <th>2015-07-07</th>\n",
       "      <th>2015-07-08</th>\n",
       "      <th>2015-07-09</th>\n",
       "      <th>...</th>\n",
       "      <th>2016-12-22</th>\n",
       "      <th>2016-12-23</th>\n",
       "      <th>2016-12-24</th>\n",
       "      <th>2016-12-25</th>\n",
       "      <th>2016-12-26</th>\n",
       "      <th>2016-12-27</th>\n",
       "      <th>2016-12-28</th>\n",
       "      <th>2016-12-29</th>\n",
       "      <th>2016-12-30</th>\n",
       "      <th>2016-12-31</th>\n",
       "    </tr>\n",
       "  </thead>\n",
       "  <tbody>\n",
       "    <tr>\n",
       "      <th>0</th>\n",
       "      <td>2NE1_zh.wikipedia.org_all-access_spider</td>\n",
       "      <td>18.0</td>\n",
       "      <td>11.0</td>\n",
       "      <td>5.0</td>\n",
       "      <td>13.0</td>\n",
       "      <td>14.0</td>\n",
       "      <td>9.0</td>\n",
       "      <td>9.0</td>\n",
       "      <td>22.0</td>\n",
       "      <td>26.0</td>\n",
       "      <td>...</td>\n",
       "      <td>32.0</td>\n",
       "      <td>63.0</td>\n",
       "      <td>15.0</td>\n",
       "      <td>26.0</td>\n",
       "      <td>14.0</td>\n",
       "      <td>20.0</td>\n",
       "      <td>22.0</td>\n",
       "      <td>19.0</td>\n",
       "      <td>18.0</td>\n",
       "      <td>20.0</td>\n",
       "    </tr>\n",
       "    <tr>\n",
       "      <th>1</th>\n",
       "      <td>2PM_zh.wikipedia.org_all-access_spider</td>\n",
       "      <td>11.0</td>\n",
       "      <td>14.0</td>\n",
       "      <td>15.0</td>\n",
       "      <td>18.0</td>\n",
       "      <td>11.0</td>\n",
       "      <td>13.0</td>\n",
       "      <td>22.0</td>\n",
       "      <td>11.0</td>\n",
       "      <td>10.0</td>\n",
       "      <td>...</td>\n",
       "      <td>17.0</td>\n",
       "      <td>42.0</td>\n",
       "      <td>28.0</td>\n",
       "      <td>15.0</td>\n",
       "      <td>9.0</td>\n",
       "      <td>30.0</td>\n",
       "      <td>52.0</td>\n",
       "      <td>45.0</td>\n",
       "      <td>26.0</td>\n",
       "      <td>20.0</td>\n",
       "    </tr>\n",
       "    <tr>\n",
       "      <th>2</th>\n",
       "      <td>3C_zh.wikipedia.org_all-access_spider</td>\n",
       "      <td>1.0</td>\n",
       "      <td>0.0</td>\n",
       "      <td>1.0</td>\n",
       "      <td>1.0</td>\n",
       "      <td>0.0</td>\n",
       "      <td>4.0</td>\n",
       "      <td>0.0</td>\n",
       "      <td>3.0</td>\n",
       "      <td>4.0</td>\n",
       "      <td>...</td>\n",
       "      <td>3.0</td>\n",
       "      <td>1.0</td>\n",
       "      <td>1.0</td>\n",
       "      <td>7.0</td>\n",
       "      <td>4.0</td>\n",
       "      <td>4.0</td>\n",
       "      <td>6.0</td>\n",
       "      <td>3.0</td>\n",
       "      <td>4.0</td>\n",
       "      <td>17.0</td>\n",
       "    </tr>\n",
       "    <tr>\n",
       "      <th>3</th>\n",
       "      <td>4minute_zh.wikipedia.org_all-access_spider</td>\n",
       "      <td>35.0</td>\n",
       "      <td>13.0</td>\n",
       "      <td>10.0</td>\n",
       "      <td>94.0</td>\n",
       "      <td>4.0</td>\n",
       "      <td>26.0</td>\n",
       "      <td>14.0</td>\n",
       "      <td>9.0</td>\n",
       "      <td>11.0</td>\n",
       "      <td>...</td>\n",
       "      <td>32.0</td>\n",
       "      <td>10.0</td>\n",
       "      <td>26.0</td>\n",
       "      <td>27.0</td>\n",
       "      <td>16.0</td>\n",
       "      <td>11.0</td>\n",
       "      <td>17.0</td>\n",
       "      <td>19.0</td>\n",
       "      <td>10.0</td>\n",
       "      <td>11.0</td>\n",
       "    </tr>\n",
       "    <tr>\n",
       "      <th>4</th>\n",
       "      <td>52_Hz_I_Love_You_zh.wikipedia.org_all-access_s...</td>\n",
       "      <td>NaN</td>\n",
       "      <td>NaN</td>\n",
       "      <td>NaN</td>\n",
       "      <td>NaN</td>\n",
       "      <td>NaN</td>\n",
       "      <td>NaN</td>\n",
       "      <td>NaN</td>\n",
       "      <td>NaN</td>\n",
       "      <td>NaN</td>\n",
       "      <td>...</td>\n",
       "      <td>48.0</td>\n",
       "      <td>9.0</td>\n",
       "      <td>25.0</td>\n",
       "      <td>13.0</td>\n",
       "      <td>3.0</td>\n",
       "      <td>11.0</td>\n",
       "      <td>27.0</td>\n",
       "      <td>13.0</td>\n",
       "      <td>36.0</td>\n",
       "      <td>10.0</td>\n",
       "    </tr>\n",
       "  </tbody>\n",
       "</table>\n",
       "<p>5 rows × 551 columns</p>\n",
       "</div>"
      ],
      "text/plain": [
       "                                                Page  2015-07-01  2015-07-02  \\\n",
       "0            2NE1_zh.wikipedia.org_all-access_spider        18.0        11.0   \n",
       "1             2PM_zh.wikipedia.org_all-access_spider        11.0        14.0   \n",
       "2              3C_zh.wikipedia.org_all-access_spider         1.0         0.0   \n",
       "3         4minute_zh.wikipedia.org_all-access_spider        35.0        13.0   \n",
       "4  52_Hz_I_Love_You_zh.wikipedia.org_all-access_s...         NaN         NaN   \n",
       "\n",
       "   2015-07-03  2015-07-04  2015-07-05  2015-07-06  2015-07-07  2015-07-08  \\\n",
       "0         5.0        13.0        14.0         9.0         9.0        22.0   \n",
       "1        15.0        18.0        11.0        13.0        22.0        11.0   \n",
       "2         1.0         1.0         0.0         4.0         0.0         3.0   \n",
       "3        10.0        94.0         4.0        26.0        14.0         9.0   \n",
       "4         NaN         NaN         NaN         NaN         NaN         NaN   \n",
       "\n",
       "   2015-07-09  ...  2016-12-22  2016-12-23  2016-12-24  2016-12-25  \\\n",
       "0        26.0  ...        32.0        63.0        15.0        26.0   \n",
       "1        10.0  ...        17.0        42.0        28.0        15.0   \n",
       "2         4.0  ...         3.0         1.0         1.0         7.0   \n",
       "3        11.0  ...        32.0        10.0        26.0        27.0   \n",
       "4         NaN  ...        48.0         9.0        25.0        13.0   \n",
       "\n",
       "   2016-12-26  2016-12-27  2016-12-28  2016-12-29  2016-12-30  2016-12-31  \n",
       "0        14.0        20.0        22.0        19.0        18.0        20.0  \n",
       "1         9.0        30.0        52.0        45.0        26.0        20.0  \n",
       "2         4.0         4.0         6.0         3.0         4.0        17.0  \n",
       "3        16.0        11.0        17.0        19.0        10.0        11.0  \n",
       "4         3.0        11.0        27.0        13.0        36.0        10.0  \n",
       "\n",
       "[5 rows x 551 columns]"
      ]
     },
     "execution_count": 4,
     "metadata": {},
     "output_type": "execute_result"
    }
   ],
   "source": [
    "df.head()"
   ]
  },
  {
   "cell_type": "code",
   "execution_count": 5,
   "metadata": {},
   "outputs": [
    {
     "name": "stdout",
     "output_type": "stream",
     "text": [
      "Data ranges from 2015-07-01 to 2016-12-31\n"
     ]
    }
   ],
   "source": [
    "data_start_date = df.columns[1]\n",
    "data_end_date = df.columns[-1]\n",
    "print('Data ranges from %s to %s' % (data_start_date, data_end_date))\n"
   ]
  },
  {
   "cell_type": "code",
   "execution_count": 6,
   "metadata": {},
   "outputs": [
    {
     "data": {
      "text/plain": [
       "'2016-12-31'"
      ]
     },
     "execution_count": 6,
     "metadata": {},
     "output_type": "execute_result"
    }
   ],
   "source": [
    "df.columns[-1]"
   ]
  },
  {
   "cell_type": "code",
   "execution_count": 7,
   "metadata": {},
   "outputs": [
    {
     "data": {
      "text/plain": [
       "datetime.timedelta(days=14)"
      ]
     },
     "execution_count": 7,
     "metadata": {},
     "output_type": "execute_result"
    }
   ],
   "source": [
    "pred_steps = 14\n",
    "pred_length=timedelta(pred_steps)\n",
    "pred_length\n",
    "## number of steps "
   ]
  },
  {
   "cell_type": "code",
   "execution_count": 8,
   "metadata": {},
   "outputs": [],
   "source": [
    "first_day = pd.to_datetime(data_start_date) \n",
    "last_day = pd.to_datetime(data_end_date)\n",
    "# time stamp for first day and last day "
   ]
  },
  {
   "cell_type": "code",
   "execution_count": 9,
   "metadata": {},
   "outputs": [],
   "source": [
    "val_pred_start = last_day - pred_length + timedelta(1)\n",
    "val_pred_end = last_day\n",
    "\n",
    "train_pred_start = val_pred_start - pred_length\n",
    "train_pred_end = val_pred_start - timedelta(days=1)"
   ]
  },
  {
   "cell_type": "code",
   "execution_count": 10,
   "metadata": {},
   "outputs": [],
   "source": [
    "enc_length = train_pred_start - first_day\n",
    "\n",
    "train_enc_start = first_day\n",
    "train_enc_end = train_enc_start + enc_length - timedelta(1)\n",
    "\n",
    "val_enc_start = train_enc_start + pred_length\n",
    "val_enc_end = val_enc_start + enc_length - timedelta(1)"
   ]
  },
  {
   "cell_type": "code",
   "execution_count": 11,
   "metadata": {},
   "outputs": [
    {
     "data": {
      "text/plain": [
       "Timestamp('2016-12-17 00:00:00')"
      ]
     },
     "execution_count": 11,
     "metadata": {},
     "output_type": "execute_result"
    }
   ],
   "source": [
    "val_enc_end"
   ]
  },
  {
   "cell_type": "code",
   "execution_count": 13,
   "metadata": {},
   "outputs": [
    {
     "data": {
      "text/plain": [
       "Timestamp('2015-07-15 00:00:00')"
      ]
     },
     "execution_count": 13,
     "metadata": {},
     "output_type": "execute_result"
    }
   ],
   "source": [
    "val_enc_start"
   ]
  },
  {
   "cell_type": "code",
   "execution_count": 14,
   "metadata": {},
   "outputs": [
    {
     "data": {
      "text/plain": [
       "Timestamp('2016-12-18 00:00:00')"
      ]
     },
     "execution_count": 14,
     "metadata": {},
     "output_type": "execute_result"
    }
   ],
   "source": [
    "val_pred_start"
   ]
  },
  {
   "cell_type": "code",
   "execution_count": 12,
   "metadata": {},
   "outputs": [
    {
     "name": "stdout",
     "output_type": "stream",
     "text": [
      "Train encoding: 2015-07-01 00:00:00 - 2016-12-03 00:00:00\n",
      "Train prediction: 2016-12-04 00:00:00 - 2016-12-17 00:00:00 \n",
      "\n",
      "Val encoding: 2015-07-15 00:00:00 - 2016-12-17 00:00:00\n",
      "Val prediction: 2016-12-18 00:00:00 - 2016-12-31 00:00:00\n",
      "\n",
      "Encoding interval: 522\n",
      "Prediction interval: 14\n"
     ]
    }
   ],
   "source": [
    "print('Train encoding:', train_enc_start, '-', train_enc_end)\n",
    "print('Train prediction:', train_pred_start, '-', train_pred_end, '\\n')\n",
    "print('Val encoding:', val_enc_start, '-', val_enc_end)\n",
    "print('Val prediction:', val_pred_start, '-', val_pred_end)\n",
    "\n",
    "print('\\nEncoding interval:', enc_length.days)\n",
    "print('Prediction interval:', pred_length.days)"
   ]
  },
  {
   "cell_type": "code",
   "execution_count": 13,
   "metadata": {},
   "outputs": [],
   "source": [
    "date_to_index = pd.Series(index=pd.Index([pd.to_datetime(c) for c in df.columns[1:]]),\n",
    "                          data=[i for i in range(len(df.columns[1:]))])\n",
    "\n",
    "series_array = df[df.columns[1:]].values \n",
    "def get_time_block_series(series_array, date_to_index, start_date, end_date):\n",
    "    \n",
    "    inds = date_to_index[start_date:end_date]\n",
    "    return series_array[:,inds] \n",
    "def transform_series_encode(series_array):\n",
    "    \n",
    "    series_array = np.log1p(np.nan_to_num(series_array)) # filling NaN with 0\n",
    "    series_mean = series_array.mean(axis=1).reshape(-1,1) \n",
    "    series_array = series_array - series_mean\n",
    "    series_array = series_array.reshape((series_array.shape[0],series_array.shape[1], 1))\n",
    "    \n",
    "    return series_array, series_mean\n",
    "def transform_series_decode(series_array, encode_series_mean):\n",
    "    \n",
    "    series_array = np.log1p(np.nan_to_num(series_array)) # filling NaN with 0\n",
    "    series_array = series_array - encode_series_mean\n",
    "    series_array = series_array.reshape((series_array.shape[0],series_array.shape[1], 1))\n",
    "    \n",
    "    return series_array"
   ]
  },
  {
   "cell_type": "code",
   "execution_count": 17,
   "metadata": {},
   "outputs": [
    {
     "data": {
      "text/plain": [
       "array([[18., 11.,  5., ..., 19., 18., 20.],\n",
       "       [11., 14., 15., ..., 45., 26., 20.],\n",
       "       [ 1.,  0.,  1., ...,  3.,  4., 17.],\n",
       "       ...,\n",
       "       [nan, nan, nan, ..., nan, nan, nan],\n",
       "       [nan, nan, nan, ..., nan, nan, nan],\n",
       "       [nan, nan, nan, ..., nan, nan, nan]])"
      ]
     },
     "execution_count": 17,
     "metadata": {},
     "output_type": "execute_result"
    }
   ],
   "source": [
    "df[df.columns[1:]].values"
   ]
  },
  {
   "cell_type": "code",
   "execution_count": 14,
   "metadata": {},
   "outputs": [
    {
     "name": "stderr",
     "output_type": "stream",
     "text": [
      "Using TensorFlow backend.\n"
     ]
    }
   ],
   "source": [
    "# defining the training architecture \n",
    "from keras.models import Model\n",
    "from keras.layers import Input, LSTM, Dense\n",
    "from keras.optimizers import Adam\n",
    "\n",
    "latent_dim = 50 # LSTM hidden units\n",
    "dropout = .20 \n",
    "\n",
    "# Define an input series and encode it with an LSTM. \n",
    "encoder_inputs = Input(shape=(None, 1)) \n",
    "encoder = LSTM(latent_dim, dropout=dropout, return_state=True)\n",
    "encoder_outputs, state_h, state_c = encoder(encoder_inputs)\n",
    "\n",
    "# We discard `encoder_outputs` and only keep the final states. These represent the \"context\"\n",
    "# vector that we use as the basis for decoding.\n",
    "encoder_states = [state_h, state_c]\n",
    "\n",
    "# Set up the decoder, using `encoder_states` as initial state.\n",
    "# This is where teacher forcing inputs are fed in.\n",
    "decoder_inputs = Input(shape=(None, 1)) \n",
    "\n",
    "# We set up our decoder using `encoder_states` as initial state.  \n",
    "# We return full output sequences and return internal states as well. \n",
    "# We don't use the return states in the training model, but we will use them in inference.\n",
    "decoder_lstm = LSTM(latent_dim, dropout=dropout, return_sequences=True, return_state=True)\n",
    "decoder_outputs, _, _ = decoder_lstm(decoder_inputs,\n",
    "                                     initial_state=encoder_states)\n",
    "\n",
    "decoder_dense = Dense(1) # 1 continuous output at each timestep\n",
    "decoder_outputs = decoder_dense(decoder_outputs)\n",
    "\n",
    "# Define the model that will turn\n",
    "# `encoder_input_data` & `decoder_input_data` into `decoder_target_data`\n",
    "model = Model([encoder_inputs, decoder_inputs], decoder_outputs) "
   ]
  },
  {
   "cell_type": "code",
   "execution_count": 24,
   "metadata": {},
   "outputs": [
    {
     "name": "stdout",
     "output_type": "stream",
     "text": [
      "Model: \"model_1\"\n",
      "__________________________________________________________________________________________________\n",
      "Layer (type)                    Output Shape         Param #     Connected to                     \n",
      "==================================================================================================\n",
      "input_1 (InputLayer)            (None, None, 1)      0                                            \n",
      "__________________________________________________________________________________________________\n",
      "input_2 (InputLayer)            (None, None, 1)      0                                            \n",
      "__________________________________________________________________________________________________\n",
      "lstm_1 (LSTM)                   [(None, 50), (None,  10400       input_1[0][0]                    \n",
      "__________________________________________________________________________________________________\n",
      "lstm_2 (LSTM)                   [(None, None, 50), ( 10400       input_2[0][0]                    \n",
      "                                                                 lstm_1[0][1]                     \n",
      "                                                                 lstm_1[0][2]                     \n",
      "__________________________________________________________________________________________________\n",
      "dense_1 (Dense)                 (None, None, 1)      51          lstm_2[0][0]                     \n",
      "==================================================================================================\n",
      "Total params: 20,851\n",
      "Trainable params: 20,851\n",
      "Non-trainable params: 0\n",
      "__________________________________________________________________________________________________\n"
     ]
    }
   ],
   "source": [
    "model.summary() \n"
   ]
  },
  {
   "cell_type": "code",
   "execution_count": 16,
   "metadata": {},
   "outputs": [],
   "source": [
    "first_n_samples = 20000\n",
    "batch_size = 2**11\n",
    "epochs = 100\n",
    "# sample of series from train_enc_start to train_enc_end  \n",
    "encoder_input_data = get_time_block_series(series_array, date_to_index, \n",
    "                                           train_enc_start, train_enc_end)[:first_n_samples] \n",
    "## this is the series of our specific time block \n",
    "## this below is the series normalised and eacj value has mean subtracted from it \n",
    "encoder_input_data, encode_series_mean = transform_series_encode(encoder_input_data)\n",
    "# sample of series from train_pred_start to train_pred_end \n",
    "decoder_target_data = get_time_block_series(series_array, date_to_index, \n",
    "                                            train_pred_start, train_pred_end)[:first_n_samples]\n",
    "decoder_target_data = transform_series_decode(decoder_target_data, encode_series_mean) \n",
    "\n",
    "\n"
   ]
  },
  {
   "cell_type": "code",
   "execution_count": 18,
   "metadata": {},
   "outputs": [
    {
     "data": {
      "text/plain": [
       "(20000, 522, 1)"
      ]
     },
     "execution_count": 18,
     "metadata": {},
     "output_type": "execute_result"
    }
   ],
   "source": [
    "encoder_input_data.shape"
   ]
  },
  {
   "cell_type": "code",
   "execution_count": 19,
   "metadata": {},
   "outputs": [
    {
     "data": {
      "text/plain": [
       "(20000, 14, 1)"
      ]
     },
     "execution_count": 19,
     "metadata": {},
     "output_type": "execute_result"
    }
   ],
   "source": [
    "decoder_target_data.shape"
   ]
  },
  {
   "cell_type": "code",
   "execution_count": null,
   "metadata": {},
   "outputs": [],
   "source": []
  },
  {
   "cell_type": "code",
   "execution_count": null,
   "metadata": {},
   "outputs": [],
   "source": []
  },
  {
   "cell_type": "code",
   "execution_count": null,
   "metadata": {},
   "outputs": [],
   "source": []
  },
  {
   "cell_type": "code",
   "execution_count": 20,
   "metadata": {},
   "outputs": [],
   "source": [
    "# lagged target series for teacher forcing\n",
    "decoder_input_data = np.zeros(decoder_target_data.shape)\n",
    "\n"
   ]
  },
  {
   "cell_type": "code",
   "execution_count": 25,
   "metadata": {},
   "outputs": [
    {
     "data": {
      "text/plain": [
       "array([[[0.],\n",
       "        [0.],\n",
       "        [0.],\n",
       "        ...,\n",
       "        [0.],\n",
       "        [0.],\n",
       "        [0.]],\n",
       "\n",
       "       [[0.],\n",
       "        [0.],\n",
       "        [0.],\n",
       "        ...,\n",
       "        [0.],\n",
       "        [0.],\n",
       "        [0.]],\n",
       "\n",
       "       [[0.],\n",
       "        [0.],\n",
       "        [0.],\n",
       "        ...,\n",
       "        [0.],\n",
       "        [0.],\n",
       "        [0.]],\n",
       "\n",
       "       ...,\n",
       "\n",
       "       [[0.],\n",
       "        [0.],\n",
       "        [0.],\n",
       "        ...,\n",
       "        [0.],\n",
       "        [0.],\n",
       "        [0.]],\n",
       "\n",
       "       [[0.],\n",
       "        [0.],\n",
       "        [0.],\n",
       "        ...,\n",
       "        [0.],\n",
       "        [0.],\n",
       "        [0.]],\n",
       "\n",
       "       [[0.],\n",
       "        [0.],\n",
       "        [0.],\n",
       "        ...,\n",
       "        [0.],\n",
       "        [0.],\n",
       "        [0.]]])"
      ]
     },
     "execution_count": 25,
     "metadata": {},
     "output_type": "execute_result"
    }
   ],
   "source": [
    "decoder_input_data"
   ]
  },
  {
   "cell_type": "code",
   "execution_count": 25,
   "metadata": {},
   "outputs": [],
   "source": [
    "decoder_input_data[:,1:,0] = decoder_target_data[:,:-1,0] "
   ]
  },
  {
   "cell_type": "code",
   "execution_count": 26,
   "metadata": {},
   "outputs": [],
   "source": [
    "decoder_input_data[:,0,0] = encoder_input_data[:,-1,0]\n"
   ]
  },
  {
   "cell_type": "code",
   "execution_count": 27,
   "metadata": {},
   "outputs": [
    {
     "name": "stdout",
     "output_type": "stream",
     "text": [
      "Train on 16000 samples, validate on 4000 samples\n",
      "Epoch 1/100\n",
      "16000/16000 [==============================] - 18s 1ms/step - loss: 0.6801 - val_loss: 0.5287\n",
      "Epoch 2/100\n",
      "16000/16000 [==============================] - 16s 1ms/step - loss: 0.5580 - val_loss: 0.4058\n",
      "Epoch 3/100\n",
      "16000/16000 [==============================] - 16s 998us/step - loss: 0.4869 - val_loss: 0.3553\n",
      "Epoch 4/100\n",
      "16000/16000 [==============================] - 16s 992us/step - loss: 0.4572 - val_loss: 0.3435\n",
      "Epoch 5/100\n",
      "16000/16000 [==============================] - 16s 996us/step - loss: 0.4357 - val_loss: 0.3245\n",
      "Epoch 6/100\n",
      "16000/16000 [==============================] - 16s 986us/step - loss: 0.4195 - val_loss: 0.3149\n",
      "Epoch 7/100\n",
      "16000/16000 [==============================] - 16s 985us/step - loss: 0.4087 - val_loss: 0.3099\n",
      "Epoch 8/100\n",
      "16000/16000 [==============================] - 16s 990us/step - loss: 0.3930 - val_loss: 0.3101\n",
      "Epoch 9/100\n",
      "16000/16000 [==============================] - 16s 996us/step - loss: 0.3911 - val_loss: 0.3046\n",
      "Epoch 10/100\n",
      "16000/16000 [==============================] - 16s 984us/step - loss: 0.3841 - val_loss: 0.3030\n",
      "Epoch 11/100\n",
      "16000/16000 [==============================] - 16s 983us/step - loss: 0.3794 - val_loss: 0.3045\n",
      "Epoch 12/100\n",
      "16000/16000 [==============================] - 16s 989us/step - loss: 0.3723 - val_loss: 0.3046\n",
      "Epoch 13/100\n",
      "16000/16000 [==============================] - 16s 990us/step - loss: 0.3725 - val_loss: 0.3013\n",
      "Epoch 14/100\n",
      "16000/16000 [==============================] - 16s 987us/step - loss: 0.3630 - val_loss: 0.3007\n",
      "Epoch 15/100\n",
      "16000/16000 [==============================] - 16s 978us/step - loss: 0.3618 - val_loss: 0.3032\n",
      "Epoch 16/100\n",
      "16000/16000 [==============================] - 16s 982us/step - loss: 0.3569 - val_loss: 0.3034\n",
      "Epoch 17/100\n",
      "16000/16000 [==============================] - 16s 990us/step - loss: 0.3534 - val_loss: 0.2978\n",
      "Epoch 18/100\n",
      "16000/16000 [==============================] - 16s 988us/step - loss: 0.3545 - val_loss: 0.2996\n",
      "Epoch 19/100\n",
      "16000/16000 [==============================] - 16s 982us/step - loss: 0.3491 - val_loss: 0.2997\n",
      "Epoch 20/100\n",
      "16000/16000 [==============================] - 16s 982us/step - loss: 0.3481 - val_loss: 0.3017\n",
      "Epoch 21/100\n",
      "16000/16000 [==============================] - 16s 985us/step - loss: 0.3501 - val_loss: 0.2989\n",
      "Epoch 22/100\n",
      "16000/16000 [==============================] - 16s 980us/step - loss: 0.3456 - val_loss: 0.3030\n",
      "Epoch 23/100\n",
      "16000/16000 [==============================] - 16s 976us/step - loss: 0.3476 - val_loss: 0.2955\n",
      "Epoch 24/100\n",
      "16000/16000 [==============================] - 16s 986us/step - loss: 0.3486 - val_loss: 0.2942\n",
      "Epoch 25/100\n",
      "16000/16000 [==============================] - 16s 986us/step - loss: 0.3468 - val_loss: 0.2964\n",
      "Epoch 26/100\n",
      "16000/16000 [==============================] - 16s 991us/step - loss: 0.3459 - val_loss: 0.2917\n",
      "Epoch 27/100\n",
      "16000/16000 [==============================] - 16s 987us/step - loss: 0.3428 - val_loss: 0.2966\n",
      "Epoch 28/100\n",
      "16000/16000 [==============================] - 16s 980us/step - loss: 0.3445 - val_loss: 0.2926\n",
      "Epoch 29/100\n",
      "16000/16000 [==============================] - 16s 985us/step - loss: 0.3401 - val_loss: 0.2987\n",
      "Epoch 30/100\n",
      "16000/16000 [==============================] - 16s 986us/step - loss: 0.3428 - val_loss: 0.2930\n",
      "Epoch 31/100\n",
      "16000/16000 [==============================] - 16s 979us/step - loss: 0.3411 - val_loss: 0.2940\n",
      "Epoch 32/100\n",
      "16000/16000 [==============================] - 16s 988us/step - loss: 0.3411 - val_loss: 0.2938\n",
      "Epoch 33/100\n",
      "16000/16000 [==============================] - 16s 975us/step - loss: 0.3406 - val_loss: 0.2953\n",
      "Epoch 34/100\n",
      "16000/16000 [==============================] - 16s 976us/step - loss: 0.3391 - val_loss: 0.2961\n",
      "Epoch 35/100\n",
      "16000/16000 [==============================] - 16s 985us/step - loss: 0.3387 - val_loss: 0.2953\n",
      "Epoch 36/100\n",
      "16000/16000 [==============================] - 16s 980us/step - loss: 0.3374 - val_loss: 0.2928\n",
      "Epoch 37/100\n",
      "16000/16000 [==============================] - 16s 981us/step - loss: 0.3387 - val_loss: 0.2967\n",
      "Epoch 38/100\n",
      "16000/16000 [==============================] - 16s 983us/step - loss: 0.3374 - val_loss: 0.2895\n",
      "Epoch 39/100\n",
      "16000/16000 [==============================] - 16s 984us/step - loss: 0.3390 - val_loss: 0.2882\n",
      "Epoch 40/100\n",
      "16000/16000 [==============================] - 16s 981us/step - loss: 0.3403 - val_loss: 0.2876\n",
      "Epoch 41/100\n",
      "16000/16000 [==============================] - 16s 982us/step - loss: 0.3368 - val_loss: 0.2904\n",
      "Epoch 42/100\n",
      "16000/16000 [==============================] - 16s 984us/step - loss: 0.3373 - val_loss: 0.2899\n",
      "Epoch 43/100\n",
      "16000/16000 [==============================] - 16s 979us/step - loss: 0.3347 - val_loss: 0.2932\n",
      "Epoch 44/100\n",
      "16000/16000 [==============================] - 16s 984us/step - loss: 0.3393 - val_loss: 0.2873\n",
      "Epoch 45/100\n",
      "16000/16000 [==============================] - 16s 985us/step - loss: 0.3356 - val_loss: 0.2906\n",
      "Epoch 46/100\n",
      "16000/16000 [==============================] - 16s 981us/step - loss: 0.3369 - val_loss: 0.2849\n",
      "Epoch 47/100\n",
      "16000/16000 [==============================] - 16s 975us/step - loss: 0.3357 - val_loss: 0.2853\n",
      "Epoch 48/100\n",
      "16000/16000 [==============================] - 16s 987us/step - loss: 0.3360 - val_loss: 0.2882\n",
      "Epoch 49/100\n",
      "16000/16000 [==============================] - 16s 975us/step - loss: 0.3332 - val_loss: 0.2833\n",
      "Epoch 50/100\n",
      "16000/16000 [==============================] - 16s 983us/step - loss: 0.3347 - val_loss: 0.2837\n",
      "Epoch 51/100\n",
      "16000/16000 [==============================] - 16s 987us/step - loss: 0.3362 - val_loss: 0.2852\n",
      "Epoch 52/100\n",
      "16000/16000 [==============================] - 16s 984us/step - loss: 0.3319 - val_loss: 0.2863\n",
      "Epoch 53/100\n",
      "16000/16000 [==============================] - 16s 982us/step - loss: 0.3327 - val_loss: 0.2890\n",
      "Epoch 54/100\n",
      "16000/16000 [==============================] - 16s 993us/step - loss: 0.3347 - val_loss: 0.2860\n",
      "Epoch 55/100\n",
      "16000/16000 [==============================] - 16s 986us/step - loss: 0.3362 - val_loss: 0.2886\n",
      "Epoch 56/100\n",
      "16000/16000 [==============================] - 16s 984us/step - loss: 0.3339 - val_loss: 0.2876\n",
      "Epoch 57/100\n",
      "16000/16000 [==============================] - 16s 985us/step - loss: 0.3349 - val_loss: 0.2895\n",
      "Epoch 58/100\n",
      "16000/16000 [==============================] - 16s 980us/step - loss: 0.3359 - val_loss: 0.2857\n",
      "Epoch 59/100\n",
      "16000/16000 [==============================] - 16s 983us/step - loss: 0.3315 - val_loss: 0.2896\n",
      "Epoch 60/100\n",
      "16000/16000 [==============================] - 16s 980us/step - loss: 0.3323 - val_loss: 0.2888\n",
      "Epoch 61/100\n",
      "16000/16000 [==============================] - 16s 983us/step - loss: 0.3278 - val_loss: 0.2879\n",
      "Epoch 62/100\n",
      "16000/16000 [==============================] - 16s 977us/step - loss: 0.3305 - val_loss: 0.2893\n",
      "Epoch 63/100\n",
      "16000/16000 [==============================] - 16s 983us/step - loss: 0.3297 - val_loss: 0.2873\n",
      "Epoch 64/100\n",
      "16000/16000 [==============================] - 16s 984us/step - loss: 0.3307 - val_loss: 0.2878\n",
      "Epoch 65/100\n",
      "16000/16000 [==============================] - 16s 984us/step - loss: 0.3277 - val_loss: 0.2886\n",
      "Epoch 66/100\n",
      "16000/16000 [==============================] - 16s 975us/step - loss: 0.3293 - val_loss: 0.2923\n",
      "Epoch 67/100\n",
      "16000/16000 [==============================] - 16s 974us/step - loss: 0.3276 - val_loss: 0.2954\n",
      "Epoch 68/100\n",
      "16000/16000 [==============================] - 16s 982us/step - loss: 0.3298 - val_loss: 0.2916\n",
      "Epoch 69/100\n",
      "16000/16000 [==============================] - 16s 983us/step - loss: 0.3275 - val_loss: 0.2829\n",
      "Epoch 70/100\n",
      "16000/16000 [==============================] - 16s 981us/step - loss: 0.3318 - val_loss: 0.2854\n",
      "Epoch 71/100\n",
      "16000/16000 [==============================] - 16s 982us/step - loss: 0.3321 - val_loss: 0.2907\n",
      "Epoch 72/100\n",
      "16000/16000 [==============================] - 16s 992us/step - loss: 0.3319 - val_loss: 0.2891\n",
      "Epoch 73/100\n",
      "16000/16000 [==============================] - 16s 982us/step - loss: 0.3335 - val_loss: 0.2852\n",
      "Epoch 74/100\n",
      "16000/16000 [==============================] - 16s 981us/step - loss: 0.3318 - val_loss: 0.2839\n",
      "Epoch 75/100\n",
      "16000/16000 [==============================] - 16s 986us/step - loss: 0.3311 - val_loss: 0.2880\n"
     ]
    },
    {
     "name": "stdout",
     "output_type": "stream",
     "text": [
      "Epoch 76/100\n",
      "16000/16000 [==============================] - 16s 994us/step - loss: 0.3298 - val_loss: 0.2886\n",
      "Epoch 77/100\n",
      "16000/16000 [==============================] - 16s 978us/step - loss: 0.3317 - val_loss: 0.2846\n",
      "Epoch 78/100\n",
      "16000/16000 [==============================] - 16s 982us/step - loss: 0.3269 - val_loss: 0.2878\n",
      "Epoch 79/100\n",
      "16000/16000 [==============================] - 16s 986us/step - loss: 0.3285 - val_loss: 0.2909\n",
      "Epoch 80/100\n",
      "16000/16000 [==============================] - 16s 984us/step - loss: 0.3250 - val_loss: 0.2899\n",
      "Epoch 81/100\n",
      "16000/16000 [==============================] - 16s 981us/step - loss: 0.3280 - val_loss: 0.2819\n",
      "Epoch 82/100\n",
      "16000/16000 [==============================] - 16s 987us/step - loss: 0.3261 - val_loss: 0.2863\n",
      "Epoch 83/100\n",
      "16000/16000 [==============================] - 16s 980us/step - loss: 0.3262 - val_loss: 0.2915\n",
      "Epoch 84/100\n",
      "16000/16000 [==============================] - 16s 981us/step - loss: 0.3256 - val_loss: 0.2898\n",
      "Epoch 85/100\n",
      "16000/16000 [==============================] - 16s 983us/step - loss: 0.3275 - val_loss: 0.2897\n",
      "Epoch 86/100\n",
      "16000/16000 [==============================] - 16s 984us/step - loss: 0.3273 - val_loss: 0.2922\n",
      "Epoch 87/100\n",
      "16000/16000 [==============================] - 16s 980us/step - loss: 0.3279 - val_loss: 0.2824\n",
      "Epoch 88/100\n",
      "16000/16000 [==============================] - 16s 992us/step - loss: 0.3236 - val_loss: 0.2894\n",
      "Epoch 89/100\n",
      "16000/16000 [==============================] - 16s 985us/step - loss: 0.3255 - val_loss: 0.2885\n",
      "Epoch 90/100\n",
      "16000/16000 [==============================] - 16s 982us/step - loss: 0.3250 - val_loss: 0.2949\n",
      "Epoch 91/100\n",
      "16000/16000 [==============================] - 16s 981us/step - loss: 0.3243 - val_loss: 0.2897\n",
      "Epoch 92/100\n",
      "16000/16000 [==============================] - 16s 978us/step - loss: 0.3263 - val_loss: 0.2926\n",
      "Epoch 93/100\n",
      "16000/16000 [==============================] - 16s 982us/step - loss: 0.3214 - val_loss: 0.2893\n",
      "Epoch 94/100\n",
      "16000/16000 [==============================] - 16s 982us/step - loss: 0.3235 - val_loss: 0.2923\n",
      "Epoch 95/100\n",
      "16000/16000 [==============================] - 16s 983us/step - loss: 0.3217 - val_loss: 0.2872\n",
      "Epoch 96/100\n",
      "16000/16000 [==============================] - 16s 986us/step - loss: 0.3215 - val_loss: 0.2918\n",
      "Epoch 97/100\n",
      "16000/16000 [==============================] - 16s 991us/step - loss: 0.3189 - val_loss: 0.2947\n",
      "Epoch 98/100\n",
      "16000/16000 [==============================] - 16s 988us/step - loss: 0.3211 - val_loss: 0.2921\n",
      "Epoch 99/100\n",
      "16000/16000 [==============================] - 16s 978us/step - loss: 0.3225 - val_loss: 0.2916\n",
      "Epoch 100/100\n",
      "16000/16000 [==============================] - 16s 980us/step - loss: 0.3197 - val_loss: 0.2886\n"
     ]
    }
   ],
   "source": [
    "model.compile(Adam(), loss='mean_absolute_error')\n",
    "history = model.fit([encoder_input_data, decoder_input_data], decoder_target_data,\n",
    "                     batch_size=batch_size,\n",
    "                     epochs=epochs,\n",
    "                     validation_split=0.2) "
   ]
  },
  {
   "cell_type": "code",
   "execution_count": 28,
   "metadata": {},
   "outputs": [],
   "source": [
    "# converge to decrese the loss \n",
    "# learning curve \n",
    "# # early stopping \n",
    "## prone to over fitting \n",
    "## slow down the learning rate "
   ]
  },
  {
   "cell_type": "code",
   "execution_count": 30,
   "metadata": {},
   "outputs": [
    {
     "data": {
      "text/plain": [
       "<matplotlib.legend.Legend at 0x7f8b14711d50>"
      ]
     },
     "execution_count": 30,
     "metadata": {},
     "output_type": "execute_result"
    },
    {
     "data": {
      "image/png": "[encoded data removed]",
      "text/plain": [
       "<Figure size 432x288 with 1 Axes>"
      ]
     },
     "metadata": {
      "needs_background": "light"
     },
     "output_type": "display_data"
    }
   ],
   "source": [
    "plt.plot(history.history['loss'])\n",
    "plt.plot(history.history['val_loss'])\n",
    "\n",
    "plt.xlabel('Epoch')\n",
    "plt.ylabel('Mean Absolute Error Loss')\n",
    "plt.title('Loss Over Time')\n",
    "plt.legend(['Train','Valid'])"
   ]
  },
  {
   "cell_type": "code",
   "execution_count": 35,
   "metadata": {},
   "outputs": [],
   "source": [
    "# setting up the final structure \n",
    "# from our previous model - mapping encoder sequence to state vectors\n",
    "encoder_model = Model(encoder_inputs, encoder_states)\n",
    "\n",
    "# A modified version of the decoding stage that takes in predicted target inputs\n",
    "# and encoded state vectors, returning predicted target outputs and decoder state vectors.\n",
    "# We need to hang onto these state vectors to run the next step of the inference loop.\n",
    "decoder_state_input_h = Input(shape=(latent_dim,))\n",
    "decoder_state_input_c = Input(shape=(latent_dim,))\n",
    "decoder_states_inputs = [decoder_state_input_h, decoder_state_input_c]\n",
    "\n",
    "decoder_outputs, state_h, state_c = decoder_lstm(decoder_inputs, initial_state=decoder_states_inputs)\n",
    "decoder_states = [state_h, state_c]\n",
    "\n",
    "decoder_outputs = decoder_dense(decoder_outputs)\n",
    "decoder_model = Model([decoder_inputs] + decoder_states_inputs,\n",
    "                      [decoder_outputs] + decoder_states) "
   ]
  },
  {
   "cell_type": "code",
   "execution_count": 36,
   "metadata": {},
   "outputs": [],
   "source": [
    "def decode_sequence(input_seq):\n",
    "    \n",
    "    # Encode the input as state vectors.\n",
    "    states_value = encoder_model.predict(input_seq)\n",
    "\n",
    "    # Generate empty target sequence of length 1.\n",
    "    target_seq = np.zeros((1, 1, 1))\n",
    "    \n",
    "    # Populate the first target sequence with end of encoding series pageviews\n",
    "    target_seq[0, 0, 0] = input_seq[0, -1, 0]\n",
    "\n",
    "    # Sampling loop for a batch of sequences - we will fill decoded_seq with predictions\n",
    "    # (to simplify, here we assume a batch of size 1).\n",
    "\n",
    "    decoded_seq = np.zeros((1,pred_steps,1))\n",
    "    \n",
    "    for i in range(pred_steps):\n",
    "        \n",
    "        output, h, c = decoder_model.predict([target_seq] + states_value)\n",
    "        \n",
    "        decoded_seq[0,i,0] = output[0,0,0]\n",
    "\n",
    "        # Update the target sequence (of length 1).\n",
    "        target_seq = np.zeros((1, 1, 1))\n",
    "        target_seq[0, 0, 0] = output[0,0,0]\n",
    "\n",
    "        # Update states\n",
    "        states_value = [h, c]\n",
    "\n",
    "    return decoded_seq"
   ]
  },
  {
   "cell_type": "code",
   "execution_count": 37,
   "metadata": {},
   "outputs": [],
   "source": [
    "encoder_input_data = get_time_block_series(series_array, date_to_index, val_enc_start, val_enc_end)\n",
    "encoder_input_data, encode_series_mean = transform_series_encode(encoder_input_data)\n",
    "\n",
    "decoder_target_data = get_time_block_series(series_array, date_to_index, val_pred_start, val_pred_end)\n",
    "decoder_target_data = transform_series_decode(decoder_target_data, encode_series_mean)"
   ]
  },
  {
   "cell_type": "code",
   "execution_count": 38,
   "metadata": {},
   "outputs": [],
   "source": [
    "def predict_and_plot(encoder_input_data, decoder_target_data, sample_ind, enc_tail_len=50):\n",
    "\n",
    "    encode_series = encoder_input_data[sample_ind:sample_ind+1,:,:] \n",
    "    pred_series = decode_sequence(encode_series)\n",
    "    \n",
    "    encode_series = encode_series.reshape(-1,1)\n",
    "    pred_series = pred_series.reshape(-1,1)   \n",
    "    target_series = decoder_target_data[sample_ind,:,:1].reshape(-1,1) \n",
    "    \n",
    "    encode_series_tail = np.concatenate([encode_series[-enc_tail_len:],target_series[:1]])\n",
    "    x_encode = encode_series_tail.shape[0]\n",
    "    \n",
    "    plt.figure(figsize=(10,6))   \n",
    "    \n",
    "    plt.plot(range(1,x_encode+1),encode_series_tail)\n",
    "    plt.plot(range(x_encode,x_encode+pred_steps),target_series,color='orange')\n",
    "    plt.plot(range(x_encode,x_encode+pred_steps),pred_series,color='teal',linestyle='--')\n",
    "    \n",
    "    plt.title('Encoder Series Tail of Length %d, Target Series, and Predictions' % enc_tail_len)\n",
    "    plt.legend(['Encoding Series','Target Series','Predictions']) "
   ]
  },
  {
   "cell_type": "code",
   "execution_count": 40,
   "metadata": {},
   "outputs": [
    {
     "data": {
      "image/png": "[encoded data removed]",
      "text/plain": [
       "<Figure size 720x432 with 1 Axes>"
      ]
     },
     "metadata": {
      "needs_background": "light"
     },
     "output_type": "display_data"
    }
   ],
   "source": [
    "predict_and_plot(encoder_input_data, decoder_target_data, 250)\n"
   ]
  },
  {
   "cell_type": "code",
   "execution_count": 41,
   "metadata": {},
   "outputs": [
    {
     "data": {
      "image/png": "[encoded data removed]",
      "text/plain": [
       "<Figure size 720x432 with 1 Axes>"
      ]
     },
     "metadata": {
      "needs_background": "light"
     },
     "output_type": "display_data"
    }
   ],
   "source": [
    "predict_and_plot(encoder_input_data, decoder_target_data, 500)\n",
    "\n"
   ]
  },
  {
   "cell_type": "code",
   "execution_count": null,
   "metadata": {},
   "outputs": [],
   "source": []
  }
 ],
 "metadata": {
  "kernelspec": {
   "display_name": "Python 3",
   "language": "python",
   "name": "python3"
  },
  "language_info": {
   "codemirror_mode": {
    "name": "ipython",
    "version": 3
   },
   "file_extension": ".py",
   "mimetype": "text/x-python",
   "name": "python",
   "nbconvert_exporter": "python",
   "pygments_lexer": "ipython3",
   "version": "3.7.4"
  }
 },
 "nbformat": 4,
 "nbformat_minor": 2
}
